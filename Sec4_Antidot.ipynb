{
 "cells": [
  {
   "cell_type": "markdown",
   "id": "cff36f20-8cb4-42bf-8826-af7eac4bbe14",
   "metadata": {},
   "source": [
    "# Antidot and 2PF with quantum jump"
   ]
  },
  {
   "cell_type": "code",
   "execution_count": 1,
   "id": "f4b44ac2-9592-4b01-8aab-e46bce150bdd",
   "metadata": {},
   "outputs": [],
   "source": [
    "import numpy as np\n",
    "import matplotlib.pyplot as plt\n",
    "import scipy.linalg as sla\n",
    "\n",
    "plt.rcParams['text.usetex']=True\n",
    "plt.rcParams['font.size']=26"
   ]
  },
  {
   "cell_type": "code",
   "execution_count": 2,
   "id": "1a13efff-4da2-4904-8c05-7d70241f78a8",
   "metadata": {},
   "outputs": [],
   "source": [
    "# Definition of constants\n",
    "phi = np.arctan(1/np.sqrt(27)) ### Phase of the PF coupling\n",
    "lam = 2.4e3*2*np.pi ### Angular frequency measure in units of 1/{\\mu}s\n",
    "eps = lam ### PF overlap energy\n",
    "delAD = lam/2000 ### Antidot energy splitting delta_ad\n",
    "Gam = lam*0.1 ### Measurement rate between lead and PF 1\n",
    "etaAD1 = np.exp(1j*0.)*lam*0.005 ### PF1-AD coupling\n",
    "etaAD2 = np.exp(1j*0.)*lam*0.005 ### PF2-AD coupling\n",
    "beta = (3/lam) ### Inverse temperature\n",
    "tL = 1j*np.sqrt(Gam) ### Amplitude of the jump operators\n",
    "tres = 1e-2 ### Resolution time in units of {\\mu}s\n",
    "dt =1e-4 ### Time step in units of {\\mu}s\n",
    "tb= 1e-1 ### The integration time in units of {\\mu}s (t_avg in article) \n",
    "Nshort = round(tres/dt) ### Number of time steps in the \"short time\" simulation\n",
    "Nlong=Nshort*1000 ### ... \"long time\" simulation\n",
    "Navg=round(tb/dt) ### The number time steps averaged over for finding the current\n",
    "Vfix=2.6*lam ### Fixed voltage"
   ]
  },
  {
   "cell_type": "code",
   "execution_count": 3,
   "id": "d5eb3d92-7d4f-4c82-a970-e5029655ae67",
   "metadata": {},
   "outputs": [],
   "source": [
    "E0=-2*eps*np.cos(phi)\n",
    "E1=-2*eps*np.cos(np.pi/3+phi)\n",
    "E2=-2*eps*np.cos(np.pi*2/3+phi)\n",
    "E3=-E0\n",
    "E4=-E1\n",
    "E5=-E2\n",
    "Hsys=np.array([[E0,0,0,0,0,0,0,0,0,0,0,etaAD1+etaAD2*np.exp(-1j*np.pi*(1+2*5)/6)],\n",
    "               [0,E0+delAD,etaAD1.conj()+etaAD2.conj()*np.exp(1j*np.pi/6),0,0,0,0,0,0,0,0,0],\n",
    "               [0,etaAD1+etaAD2*np.exp(-1j*np.pi/6),E1,0,0,0,0,0,0,0,0,0],\n",
    "               [0,0,0,E1+delAD,etaAD1.conj()+etaAD2.conj()*np.exp(1j*np.pi*(1+2*1)/6),0,0,0,0,0,0,0],\n",
    "               [0,0,0,etaAD1+etaAD2*np.exp(-1j*np.pi*(1+2*1)/6),E2,0,0,0,0,0,0,0],\n",
    "               [0,0,0,0,0,E2+delAD,etaAD1.conj()+etaAD2.conj()*np.exp(1j*np.pi*(1+2*2)/6),0,0,0,0,0],\n",
    "               [0,0,0,0,0,etaAD1+etaAD2*np.exp(-1j*np.pi*(1+2*2)/6),E3,0,0,0,0,0],\n",
    "               [0,0,0,0,0,0,0,E3+delAD,etaAD1.conj()+etaAD2.conj()*np.exp(1j*np.pi*(1+2*3)/6),0,0,0],\n",
    "               [0,0,0,0,0,0,0,etaAD1+etaAD2*np.exp(-1j*np.pi*(1+2*3)/6),E4,0,0,0],\n",
    "               [0,0,0,0,0,0,0,0,0,E4+delAD,etaAD1.conj()+etaAD2.conj()*np.exp(1j*np.pi*(1+2*4)/6),0],\n",
    "               [0,0,0,0,0,0,0,0,0,etaAD1+etaAD2*np.exp(-1j*np.pi*(1+2*4)/6),E5,0],\n",
    "               [etaAD1.conj()+etaAD2.conj()*np.exp(1j*np.pi*(1+2*5)/6),0,0,0,0,0,0,0,0,0,0,E5+delAD]])\n",
    "\n",
    "Qtot = np.diag([0.,1,1,2,2,0,0,1,1,2,2,0]) ### The Q_tot operator"
   ]
  },
  {
   "cell_type": "code",
   "execution_count": 4,
   "id": "465c973d-c287-4294-9d64-b8e147a710e2",
   "metadata": {},
   "outputs": [],
   "source": [
    "q03ad0 = np.array([1./np.sqrt(2),0,0,0,0,0,1./np.sqrt(2),0,0,0,0,0], dtype=complex)\n",
    "q14ad0 = np.array([0,0,1./np.sqrt(2),0,0,0,0,0,1./np.sqrt(2),0,0,0], dtype=complex)\n",
    "q25ad0 = np.array([0,0,0,0,1./np.sqrt(2),0,0,0,0,0,1./np.sqrt(2),0], dtype=complex)\n",
    "q03ad1 = np.array([0,1./np.sqrt(2),0,0,0,0,0,1./np.sqrt(2),0,0,0,0], dtype=complex)\n",
    "q14ad1 = np.array([0,0,0,1./np.sqrt(2),0,0,0,0,0,1./np.sqrt(2),0,0], dtype=complex)\n",
    "q25ad1 = np.array([0,0,0,0,0,1./np.sqrt(2),0,0,0,0,0,1./np.sqrt(2)], dtype=complex)\n",
    "qeq =np.array([1./np.sqrt(12),1/np.sqrt(12),1/np.sqrt(12),1/np.sqrt(12),1/np.sqrt(12),1/np.sqrt(12),1./np.sqrt(12),1/np.sqrt(12),1/np.sqrt(12),1/np.sqrt(12),1/np.sqrt(12),1/np.sqrt(12)], dtype=complex)"
   ]
  },
  {
   "cell_type": "code",
   "execution_count": 5,
   "id": "c16c3110-cf3d-4906-955b-b7d2c1dcd782",
   "metadata": {},
   "outputs": [],
   "source": [
    "def L1AD(V): ### Here we define the jump operator L+ as a function of voltage\n",
    "    L1AD_ret = np.zeros((12,12), dtype=complex)\n",
    "    L1AD_ret[0, 6] = tL*np.sqrt(1/(1+np.exp(beta*(E0-E3-V))))\n",
    "    L1AD_ret[1, 7] = tL*np.sqrt(1/(1+np.exp(beta*(E0-E3-V))))\n",
    "    L1AD_ret[2, 8] = tL*np.sqrt(1/(1+np.exp(beta*(E1-E4-V))))\n",
    "    L1AD_ret[3, 9] = tL*np.sqrt(1/(1+np.exp(beta*(E1-E4-V))))\n",
    "    L1AD_ret[4, 10] = tL*np.sqrt(1/(1+np.exp(beta*(E2-E5-V))))\n",
    "    L1AD_ret[5, 11] = tL*np.sqrt(1/(1+np.exp(beta*(E2-E5-V))))\n",
    "    L1AD_ret[6, 0] = tL*np.sqrt(1/(1+np.exp(beta*(E3-E0-V))))\n",
    "    L1AD_ret[7, 1] = tL*np.sqrt(1/(1+np.exp(beta*(E3-E0-V))))\n",
    "    L1AD_ret[8, 2] = tL*np.sqrt(1/(1+np.exp(beta*(E4-E1-V))))\n",
    "    L1AD_ret[9, 3] = tL*np.sqrt(1/(1+np.exp(beta*(E4-E1-V))))\n",
    "    L1AD_ret[10, 4] = tL*np.sqrt(1/(1+np.exp(beta*(E5-E2-V))))\n",
    "    L1AD_ret[11, 5] = tL*np.sqrt(1/(1+np.exp(beta*(E5-E2-V))))\n",
    "    return L1AD_ret\n",
    "\n",
    "def L2AD(V): ### Here we define the jump operator L- as a function of voltage\n",
    "    L2AD_ret = np.zeros((12,12), dtype=complex) \n",
    "    L2AD_ret[0, 6] = tL*np.sqrt(1-1/(1+np.exp(beta*(E3-E0-V)))) \n",
    "    L2AD_ret[1, 7] = tL*np.sqrt(1-1/(1+np.exp(beta*(E3-E0-V))))\n",
    "    L2AD_ret[2, 8] = tL*np.sqrt(1-1/(1+np.exp(beta*(E4-E1-V))))\n",
    "    L2AD_ret[3, 9] = tL*np.sqrt(1-1/(1+np.exp(beta*(E4-E1-V))))\n",
    "    L2AD_ret[4, 10] = tL*np.sqrt(1-1/(1+np.exp(beta*(E5-E2-V))))\n",
    "    L2AD_ret[5, 11] = tL*np.sqrt(1-1/(1+np.exp(beta*(E5-E2-V))))\n",
    "    L2AD_ret[6, 0] = tL*np.sqrt(1-1/(1+np.exp(beta*(E0-E3-V))))\n",
    "    L2AD_ret[7, 1] = tL*np.sqrt(1-1/(1+np.exp(beta*(E0-E3-V))))\n",
    "    L2AD_ret[8, 2] = tL*np.sqrt(1-1/(1+np.exp(beta*(E1-E4-V))))\n",
    "    L2AD_ret[9, 3] = tL*np.sqrt(1-1/(1+np.exp(beta*(E1-E4-V))))\n",
    "    L2AD_ret[10, 4] = tL*np.sqrt(1-1/(1+np.exp(beta*(E2-E5-V))))\n",
    "    L2AD_ret[11, 5] = tL*np.sqrt(1-1/(1+np.exp(beta*(E2-E5-V))))\n",
    "    return L2AD_ret"
   ]
  },
  {
   "cell_type": "code",
   "execution_count": 6,
   "id": "5dbc3a02-5d31-4aff-b99d-4bc6155e7839",
   "metadata": {},
   "outputs": [],
   "source": [
    "def UAD(V): ### Here we define the no-jump evolution operator\n",
    "    UAD_ret = sla.expm((-1j*dt)*(Hsys-1j*((L1AD(V).T.conj())@L1AD(V)+(L2AD(V).T.conj())@L2AD(V))/2))\n",
    "    return UAD_ret"
   ]
  },
  {
   "cell_type": "code",
   "execution_count": 61,
   "id": "d13801a9-0262-435c-a1fd-936a13628a21",
   "metadata": {},
   "outputs": [
    {
     "name": "stdout",
     "output_type": "stream",
     "text": [
      "4.4149522045575775e-05\n"
     ]
    }
   ],
   "source": [
    "epeta=((E0-E5-delAD)/2)/abs(etaAD1)\n",
    "Pshift=(np.sin(np.sqrt(epeta**2+1)))**2/(epeta**2+1)\n",
    "print(Pshift)"
   ]
  },
  {
   "cell_type": "code",
   "execution_count": 7,
   "id": "d2f783da-df6d-4c05-8518-f0645501909a",
   "metadata": {},
   "outputs": [],
   "source": [
    "Nt=5*Nlong\n",
    "ttab=np.linspace(tb,Nt*dt,Nt-Navg)"
   ]
  },
  {
   "cell_type": "code",
   "execution_count": 8,
   "id": "781e4a10-f3af-4940-94a1-4929e3241f31",
   "metadata": {
    "tags": []
   },
   "outputs": [],
   "source": [
    "st = q03ad0\n",
    "Umat=UAD(Vfix)\n",
    "L1mat=L1AD(Vfix)\n",
    "L2mat=L2AD(Vfix)\n",
    "Jdiffq03ad0=[]\n",
    "j1=0\n",
    "j2=0\n",
    "for i in range(1,Nt+1):\n",
    "    stnj = Umat@st\n",
    "    stnjR = stnj/np.sqrt(np.vdot(stnj,stnj))\n",
    "    L1st = L1mat@stnjR\n",
    "    L2st = L2mat@stnjR\n",
    "    Pj1 = dt*(np.vdot(L1st,L1st)).real\n",
    "    Pj2 = dt*(np.vdot(L2st,L2st)).real\n",
    "    P=np.random.uniform()\n",
    "    P1=np.random.uniform()\n",
    "    P2=np.random.uniform()\n",
    "    if P<0.5:\n",
    "        if P1<Pj1:\n",
    "            st=L1st/np.sqrt(Pj1/dt)\n",
    "            j1=j1+1\n",
    "            j2=j2+0\n",
    "        else:\n",
    "            if P2<Pj2:\n",
    "                st=L2st/np.sqrt(Pj2/dt)\n",
    "                j1=j1+0\n",
    "                j2=j2+1\n",
    "            else:\n",
    "                st=stnjR\n",
    "                j1=j1+0\n",
    "                j2=j2+0\n",
    "    else:\n",
    "        if P2<Pj2:\n",
    "            st=L2st/np.sqrt(Pj2/dt)\n",
    "            j1=j1+0\n",
    "            j2=j2+1\n",
    "        else:\n",
    "            if P1<Pj1:\n",
    "                st=L1st/np.sqrt(Pj1/dt)\n",
    "                j1=j1+1\n",
    "                j2=j2+0\n",
    "            else:\n",
    "                st=stnjR\n",
    "                j1=j1+0\n",
    "                j2=j2+0\n",
    "    Jdiffq03ad0.append(j1-j2)"
   ]
  },
  {
   "cell_type": "code",
   "execution_count": 9,
   "id": "c7be49e7-09d9-413a-a791-1a9a2e9223c0",
   "metadata": {
    "tags": []
   },
   "outputs": [],
   "source": [
    "st = q14ad0\n",
    "Umat=UAD(Vfix)\n",
    "L1mat=L1AD(Vfix)\n",
    "L2mat=L2AD(Vfix)\n",
    "Jdiffq14ad0=[]\n",
    "j1=0\n",
    "j2=0\n",
    "for i in range(1,Nt+1):\n",
    "    stnj = Umat@st\n",
    "    stnjR = stnj/np.sqrt(np.vdot(stnj,stnj))\n",
    "    L1st = L1mat@stnjR\n",
    "    L2st = L2mat@stnjR\n",
    "    Pj1 = dt*(np.vdot(L1st,L1st)).real\n",
    "    Pj2 = dt*(np.vdot(L2st,L2st)).real\n",
    "    P=np.random.uniform()\n",
    "    P1=np.random.uniform()\n",
    "    P2=np.random.uniform()\n",
    "    if P<0.5:\n",
    "        if P1<Pj1:\n",
    "            st=L1st/np.sqrt(Pj1/dt)\n",
    "            j1=j1+1\n",
    "            j2=j2+0\n",
    "        else:\n",
    "            if P2<Pj2:\n",
    "                st=L2st/np.sqrt(Pj2/dt)\n",
    "                j1=j1+0\n",
    "                j2=j2+1\n",
    "            else:\n",
    "                st=stnjR\n",
    "                j1=j1+0\n",
    "                j2=j2+0\n",
    "    else:\n",
    "        if P2<Pj2:\n",
    "            st=L2st/np.sqrt(Pj2/dt)\n",
    "            j1=j1+0\n",
    "            j2=j2+1\n",
    "        else:\n",
    "            if P1<Pj1:\n",
    "                st=L1st/np.sqrt(Pj1/dt)\n",
    "                j1=j1+1\n",
    "                j2=j2+0\n",
    "            else:\n",
    "                st=stnjR\n",
    "                j1=j1+0\n",
    "                j2=j2+0\n",
    "    Jdiffq14ad0.append(j1-j2)"
   ]
  },
  {
   "cell_type": "code",
   "execution_count": 10,
   "id": "9288cf3b-8b80-4c56-a87b-c18770877a2e",
   "metadata": {
    "tags": []
   },
   "outputs": [],
   "source": [
    "st = q25ad0\n",
    "Umat=UAD(Vfix)\n",
    "L1mat=L1AD(Vfix)\n",
    "L2mat=L2AD(Vfix)\n",
    "Jdiffq25ad0=[]\n",
    "j1=0\n",
    "j2=0\n",
    "for i in range(1,Nt+1):\n",
    "    stnj = Umat@st\n",
    "    stnjR = stnj/np.sqrt(np.vdot(stnj,stnj))\n",
    "    L1st = L1mat@stnjR\n",
    "    L2st = L2mat@stnjR\n",
    "    Pj1 = dt*(np.vdot(L1st,L1st)).real\n",
    "    Pj2 = dt*(np.vdot(L2st,L2st)).real\n",
    "    P=np.random.uniform()\n",
    "    P1=np.random.uniform()\n",
    "    P2=np.random.uniform()\n",
    "    if P<0.5:\n",
    "        if P1<Pj1:\n",
    "            st=L1st/np.sqrt(Pj1/dt)\n",
    "            j1=j1+1\n",
    "            j2=j2+0\n",
    "        else:\n",
    "            if P2<Pj2:\n",
    "                st=L2st/np.sqrt(Pj2/dt)\n",
    "                j1=j1+0\n",
    "                j2=j2+1\n",
    "            else:\n",
    "                st=stnjR\n",
    "                j1=j1+0\n",
    "                j2=j2+0\n",
    "    else:\n",
    "        if P2<Pj2:\n",
    "            st=L2st/np.sqrt(Pj2/dt)\n",
    "            j1=j1+0\n",
    "            j2=j2+1\n",
    "        else:\n",
    "            if P1<Pj1:\n",
    "                st=L1st/np.sqrt(Pj1/dt)\n",
    "                j1=j1+1\n",
    "                j2=j2+0\n",
    "            else:\n",
    "                st=stnjR\n",
    "                j1=j1+0\n",
    "                j2=j2+0\n",
    "    Jdiffq25ad0.append(j1-j2)"
   ]
  },
  {
   "cell_type": "code",
   "execution_count": 11,
   "id": "61b2cbd2-f849-4a37-89e6-a38fe9711052",
   "metadata": {
    "tags": []
   },
   "outputs": [],
   "source": [
    "st = q03ad1\n",
    "Umat=UAD(Vfix)\n",
    "L1mat=L1AD(Vfix)\n",
    "L2mat=L2AD(Vfix)\n",
    "Jdiffq03ad1=[]\n",
    "j1=0\n",
    "j2=0\n",
    "for i in range(1,Nt+1):\n",
    "    stnj = Umat@st\n",
    "    stnjR = stnj/np.sqrt(np.vdot(stnj,stnj))\n",
    "    L1st = L1mat@stnjR\n",
    "    L2st = L2mat@stnjR\n",
    "    Pj1 = dt*(np.vdot(L1st,L1st)).real\n",
    "    Pj2 = dt*(np.vdot(L2st,L2st)).real\n",
    "    P=np.random.uniform()\n",
    "    P1=np.random.uniform()\n",
    "    P2=np.random.uniform()\n",
    "    if P<0.5:\n",
    "        if P1<Pj1:\n",
    "            st=L1st/np.sqrt(Pj1/dt)\n",
    "            j1=j1+1\n",
    "            j2=j2+0\n",
    "        else:\n",
    "            if P2<Pj2:\n",
    "                st=L2st/np.sqrt(Pj2/dt)\n",
    "                j1=j1+0\n",
    "                j2=j2+1\n",
    "            else:\n",
    "                st=stnjR\n",
    "                j1=j1+0\n",
    "                j2=j2+0\n",
    "    else:\n",
    "        if P2<Pj2:\n",
    "            st=L2st/np.sqrt(Pj2/dt)\n",
    "            j1=j1+0\n",
    "            j2=j2+1\n",
    "        else:\n",
    "            if P1<Pj1:\n",
    "                st=L1st/np.sqrt(Pj1/dt)\n",
    "                j1=j1+1\n",
    "                j2=j2+0\n",
    "            else:\n",
    "                st=stnjR\n",
    "                j1=j1+0\n",
    "                j2=j2+0\n",
    "    Jdiffq03ad1.append(j1-j2)"
   ]
  },
  {
   "cell_type": "code",
   "execution_count": 12,
   "id": "c7e55b4b-55be-40cf-a92b-8f82339aadac",
   "metadata": {
    "tags": []
   },
   "outputs": [],
   "source": [
    "st = q14ad1\n",
    "Umat=UAD(Vfix)\n",
    "L1mat=L1AD(Vfix)\n",
    "L2mat=L2AD(Vfix)\n",
    "Jdiffq14ad1=[]\n",
    "j1=0\n",
    "j2=0\n",
    "for i in range(1,Nt+1):\n",
    "    stnj = Umat@st\n",
    "    stnjR = stnj/np.sqrt(np.vdot(stnj,stnj))\n",
    "    L1st = L1mat@stnjR\n",
    "    L2st = L2mat@stnjR\n",
    "    Pj1 = dt*(np.vdot(L1st,L1st)).real\n",
    "    Pj2 = dt*(np.vdot(L2st,L2st)).real\n",
    "    P=np.random.uniform()\n",
    "    P1=np.random.uniform()\n",
    "    P2=np.random.uniform()\n",
    "    if P<0.5:\n",
    "        if P1<Pj1:\n",
    "            st=L1st/np.sqrt(Pj1/dt)\n",
    "            j1=j1+1\n",
    "            j2=j2+0\n",
    "        else:\n",
    "            if P2<Pj2:\n",
    "                st=L2st/np.sqrt(Pj2/dt)\n",
    "                j1=j1+0\n",
    "                j2=j2+1\n",
    "            else:\n",
    "                st=stnjR\n",
    "                j1=j1+0\n",
    "                j2=j2+0\n",
    "    else:\n",
    "        if P2<Pj2:\n",
    "            st=L2st/np.sqrt(Pj2/dt)\n",
    "            j1=j1+0\n",
    "            j2=j2+1\n",
    "        else:\n",
    "            if P1<Pj1:\n",
    "                st=L1st/np.sqrt(Pj1/dt)\n",
    "                j1=j1+1\n",
    "                j2=j2+0\n",
    "            else:\n",
    "                st=stnjR\n",
    "                j1=j1+0\n",
    "                j2=j2+0\n",
    "    Jdiffq14ad1.append(j1-j2)"
   ]
  },
  {
   "cell_type": "code",
   "execution_count": 13,
   "id": "a4c0d0a7-d0b5-44c2-a463-de1d249d72e5",
   "metadata": {
    "tags": []
   },
   "outputs": [],
   "source": [
    "st = q25ad1\n",
    "Umat=UAD(Vfix)\n",
    "L1mat=L1AD(Vfix)\n",
    "L2mat=L2AD(Vfix)\n",
    "Jdiffq25ad1=[]\n",
    "j1=0\n",
    "j2=0\n",
    "for i in range(1,Nt+1):\n",
    "    stnj = Umat@st\n",
    "    stnjR = stnj/np.sqrt(np.vdot(stnj,stnj))\n",
    "    L1st = L1mat@stnjR\n",
    "    L2st = L2mat@stnjR\n",
    "    Pj1 = dt*(np.vdot(L1st,L1st)).real\n",
    "    Pj2 = dt*(np.vdot(L2st,L2st)).real\n",
    "    P=np.random.uniform()\n",
    "    P1=np.random.uniform()\n",
    "    P2=np.random.uniform()\n",
    "    if P<0.5:\n",
    "        if P1<Pj1:\n",
    "            st=L1st/np.sqrt(Pj1/dt)\n",
    "            j1=j1+1\n",
    "            j2=j2+0\n",
    "        else:\n",
    "            if P2<Pj2:\n",
    "                st=L2st/np.sqrt(Pj2/dt)\n",
    "                j1=j1+0\n",
    "                j2=j2+1\n",
    "            else:\n",
    "                st=stnjR\n",
    "                j1=j1+0\n",
    "                j2=j2+0\n",
    "    else:\n",
    "        if P2<Pj2:\n",
    "            st=L2st/np.sqrt(Pj2/dt)\n",
    "            j1=j1+0\n",
    "            j2=j2+1\n",
    "        else:\n",
    "            if P1<Pj1:\n",
    "                st=L1st/np.sqrt(Pj1/dt)\n",
    "                j1=j1+1\n",
    "                j2=j2+0\n",
    "            else:\n",
    "                st=stnjR\n",
    "                j1=j1+0\n",
    "                j2=j2+0\n",
    "    Jdiffq25ad1.append(j1-j2)"
   ]
  },
  {
   "cell_type": "code",
   "execution_count": 14,
   "id": "8d38574b-40b8-4084-b348-3f1a00320967",
   "metadata": {
    "tags": []
   },
   "outputs": [],
   "source": [
    "st = qeq\n",
    "Umat=UAD(Vfix)\n",
    "L1mat=L1AD(Vfix)\n",
    "L2mat=L2AD(Vfix)\n",
    "Jdiffqeq=[]\n",
    "sttab=[qeq]\n",
    "j1=0\n",
    "j2=0\n",
    "for i in range(1,Nt+1):\n",
    "    stnj = Umat@st\n",
    "    stnjR = stnj/np.sqrt(np.vdot(stnj,stnj))\n",
    "    L1st = L1mat@stnjR\n",
    "    L2st = L2mat@stnjR\n",
    "    Pj1 = dt*(np.vdot(L1st,L1st)).real\n",
    "    Pj2 = dt*(np.vdot(L2st,L2st)).real\n",
    "    P=np.random.uniform()\n",
    "    P1=np.random.uniform()\n",
    "    P2=np.random.uniform()\n",
    "    if P<0.5:\n",
    "        if P1<Pj1:\n",
    "            st=L1st/np.sqrt(Pj1/dt)\n",
    "            j1=j1+1\n",
    "            j2=j2+0\n",
    "        else:\n",
    "            if P2<Pj2:\n",
    "                st=L2st/np.sqrt(Pj2/dt)\n",
    "                j1=j1+0\n",
    "                j2=j2+1\n",
    "            else:\n",
    "                st=stnjR\n",
    "                j1=j1+0\n",
    "                j2=j2+0\n",
    "    else:\n",
    "        if P2<Pj2:\n",
    "            st=L2st/np.sqrt(Pj2/dt)\n",
    "            j1=j1+0\n",
    "            j2=j2+1\n",
    "        else:\n",
    "            if P1<Pj1:\n",
    "                st=L1st/np.sqrt(Pj1/dt)\n",
    "                j1=j1+1\n",
    "                j2=j2+0\n",
    "            else:\n",
    "                st=stnjR\n",
    "                j1=j1+0\n",
    "                j2=j2+0\n",
    "    sttab.append(st)\n",
    "    Jdiffqeq.append(j1-j2)"
   ]
  },
  {
   "cell_type": "code",
   "execution_count": 15,
   "id": "5232d670-6cd8-4a96-bb1c-568d31dfaadd",
   "metadata": {
    "tags": []
   },
   "outputs": [],
   "source": [
    "Jarrq03ad0=np.array(Jdiffq03ad0)\n",
    "Itabq03ad0=[]\n",
    "for i in range(Navg, Nt):\n",
    "    curr=1e12*1.6e-19*(Jarrq03ad0[i]-Jarrq03ad0[i-Navg])/(tb*1e-6)\n",
    "    Itabq03ad0.append(curr)\n",
    "    \n",
    "Iarr03ad0=np.array(Itabq03ad0)"
   ]
  },
  {
   "cell_type": "code",
   "execution_count": 16,
   "id": "97c0eb06-4232-487b-8d0b-9155da7c8adf",
   "metadata": {
    "tags": []
   },
   "outputs": [],
   "source": [
    "Jarrq14ad0=np.array(Jdiffq14ad0)\n",
    "Itabq14ad0=[]\n",
    "for i in range(Navg, Nt):\n",
    "    curr=1e12*1.6e-19*(Jarrq14ad0[i]-Jarrq14ad0[i-Navg])/(tb*1e-6)\n",
    "    Itabq14ad0.append(curr)\n",
    "    \n",
    "Iarr14ad0=np.array(Itabq14ad0)"
   ]
  },
  {
   "cell_type": "code",
   "execution_count": 17,
   "id": "fdd6a0ba-524d-4e33-9632-ce464786f6a8",
   "metadata": {
    "tags": []
   },
   "outputs": [],
   "source": [
    "Jarrq25ad0=np.array(Jdiffq25ad0)\n",
    "Itabq25ad0=[]\n",
    "for i in range(Navg, Nt):\n",
    "    curr=1e12*1.6e-19*(Jarrq25ad0[i]-Jarrq25ad0[i-Navg])/(tb*1e-6)\n",
    "    Itabq25ad0.append(curr)\n",
    "    \n",
    "Iarr25ad0=np.array(Itabq25ad0)"
   ]
  },
  {
   "cell_type": "code",
   "execution_count": 18,
   "id": "9d39e4b5-d930-411b-a587-641fad49b740",
   "metadata": {
    "tags": []
   },
   "outputs": [],
   "source": [
    "Jarrq03ad1=np.array(Jdiffq03ad1)\n",
    "Itabq03ad1=[]\n",
    "for i in range(Navg, Nt):\n",
    "    curr=1e12*1.6e-19*(Jarrq03ad1[i]-Jarrq03ad1[i-Navg])/(tb*1e-6)\n",
    "    Itabq03ad1.append(curr)\n",
    "    \n",
    "Iarr03ad1=np.array(Itabq03ad1)"
   ]
  },
  {
   "cell_type": "code",
   "execution_count": 19,
   "id": "7407cf11-537e-429b-9e4d-0c52ed927475",
   "metadata": {
    "tags": []
   },
   "outputs": [],
   "source": [
    "Jarrq14ad1=np.array(Jdiffq14ad1)\n",
    "Itabq14ad1=[]\n",
    "for i in range(Navg, Nt):\n",
    "    curr=1e12*1.6e-19*(Jarrq14ad1[i]-Jarrq14ad1[i-Navg])/(tb*1e-6)\n",
    "    Itabq14ad1.append(curr)\n",
    "    \n",
    "Iarr14ad1=np.array(Itabq14ad1)"
   ]
  },
  {
   "cell_type": "code",
   "execution_count": 20,
   "id": "de2169c7-7db3-4f36-ad61-295c6fa95adc",
   "metadata": {
    "tags": []
   },
   "outputs": [],
   "source": [
    "Jarrq25ad1=np.array(Jdiffq25ad1)\n",
    "Itabq25ad1=[]\n",
    "for i in range(Navg, Nt):\n",
    "    curr=1e12*1.6e-19*(Jarrq25ad1[i]-Jarrq25ad1[i-Navg])/(tb*1e-6)\n",
    "    Itabq25ad1.append(curr)\n",
    "    \n",
    "Iarr25ad1=np.array(Itabq25ad1)"
   ]
  },
  {
   "cell_type": "code",
   "execution_count": 21,
   "id": "8acdbe0c-1de7-4aee-a7cc-612888c97d52",
   "metadata": {},
   "outputs": [],
   "source": [
    "Jarrqeq=np.array(Jdiffqeq)\n",
    "Itabqeq=[]\n",
    "for i in range(Navg, Nt):\n",
    "    curr=1e12*1.6e-19*(Jarrqeq[i]-Jarrqeq[i-Navg])/(tb*1e-6)\n",
    "    Itabqeq.append(curr)\n",
    "    \n",
    "Iarreq=np.array(Itabqeq)"
   ]
  },
  {
   "cell_type": "code",
   "execution_count": 31,
   "id": "2fd6f9b3-c50a-49f1-b59b-cfccb33884e6",
   "metadata": {},
   "outputs": [
    {
     "data": {
      "image/png": "[encoded data removed]",
      "text/plain": [
       "<Figure size 288x288 with 1 Axes>"
      ]
     },
     "metadata": {
      "needs_background": "light"
     },
     "output_type": "display_data"
    }
   ],
   "source": [
    "fig, ax = plt.subplots(figsize=(4,4)) \n",
    "ax.set_xlabel(r'$t(\\mu {\\rm s})$')\n",
    "ax.set_ylabel(r'$I\\, ({\\rm pA})$')\n",
    "ax.set_xticks(np.array([tb,Nt*dt/5,Nt*dt/2,Nt*dt]), labels=['$0.1$','$10$','$25$','$50$'])\n",
    "ax.set_yticks(np.array([0,100,200,300]))\n",
    "plt.plot(ttab,Iarr03ad0,color='tab:blue')\n",
    "#plt.plot(ttab,Iarr14ad0,color='tab:orange')\n",
    "#plt.plot(ttab,Iarr25ad0,color='tab:green')\n",
    "plt.ylim(ymax=325,ymin=-15)\n",
    "plt.show()"
   ]
  },
  {
   "cell_type": "code",
   "execution_count": 33,
   "id": "91cdc393-44d1-468a-90bb-4d682161aae5",
   "metadata": {},
   "outputs": [
    {
     "data": {
      "image/png": "[encoded data removed]",
      "text/plain": [
       "<Figure size 288x288 with 1 Axes>"
      ]
     },
     "metadata": {
      "needs_background": "light"
     },
     "output_type": "display_data"
    }
   ],
   "source": [
    "fig, ax = plt.subplots(figsize=(4,4)) \n",
    "ax.set_xlabel(r'$t(\\mu {\\rm s})$')\n",
    "ax.set_ylabel(r'$I\\, ({\\rm pA})$')\n",
    "ax.set_xticks(np.array([tb,Nt*dt/5,Nt*dt/2,Nt*dt]), labels=['$0.1$','$10$','$25$','$50$'])\n",
    "ax.set_yticks(np.array([0,100,200,300]))\n",
    "plt.plot(ttab,Iarr03ad1,color='tab:blue')\n",
    "plt.plot(ttab,Iarr14ad1,color='tab:orange')\n",
    "plt.plot(ttab,Iarr25ad1,color='tab:green')\n",
    "plt.ylim(ymax=325,ymin=-15)\n",
    "plt.show() "
   ]
  },
  {
   "cell_type": "code",
   "execution_count": 86,
   "id": "a126fe79-f724-47df-955e-1286105b1d55",
   "metadata": {},
   "outputs": [
    {
     "data": {
      "image/png": "[encoded data removed]",
      "text/plain": [
       "<Figure size 432x288 with 1 Axes>"
      ]
     },
     "metadata": {
      "needs_background": "light"
     },
     "output_type": "display_data"
    }
   ],
   "source": [
    "fig, ax = plt.subplots() ### To create this plot set etaAD1=etaAD2=0 at the top\n",
    "ax.set_xlabel(r'$t(\\mu {\\rm s})$')\n",
    "ax.set_ylabel(r'$I\\, ({\\rm pA})$')\n",
    "ax.set_title(r'$\\eta_{\\rm ad}=0\\,, eV_b=2.6\\lambda$')\n",
    "ax.set_xticks(np.array([tb,2500*tres,5000*tres]), labels=['$0.1$','$25$','$50$'])\n",
    "ax.set_yticks(np.array([0,100,200,300]))\n",
    "plt.plot(ttab,Iarr03ad0)\n",
    "plt.plot(ttab,Iarr14ad0)\n",
    "plt.plot(ttab,Iarr25ad0)\n",
    "plt.plot(ttab,Iarr03ad1)\n",
    "plt.plot(ttab,Iarr14ad1)\n",
    "plt.plot(ttab,Iarr25ad1)\n",
    "plt.show()"
   ]
  },
  {
   "cell_type": "code",
   "execution_count": 26,
   "id": "87bb8fad-7c6c-434d-9bf8-5cd45f9ff3ae",
   "metadata": {},
   "outputs": [
    {
     "data": {
      "image/png": "[encoded data removed]",
      "text/plain": [
       "<Figure size 432x288 with 1 Axes>"
      ]
     },
     "metadata": {
      "needs_background": "light"
     },
     "output_type": "display_data"
    }
   ],
   "source": [
    "fig, ax = plt.subplots()\n",
    "ax.set_xlabel(r'$t(\\mu {\\rm s})$')\n",
    "ax.set_ylabel(r'$I\\, ({\\rm pA})$')\n",
    "ax.set_title(r'${\\rm Eq.\\, superpos.}$',fontsize=24)\n",
    "ax.set_xticks(np.array([tb,1000*tres,2500*tres,5000*tres]), labels=['$0.1$','$10$','$25$','$50$'])\n",
    "ax.set_yticks(np.array([0,100,200,300]))\n",
    "plt.plot(ttab,Iarreq,color='k')\n",
    "plt.ylim(ymax=325,ymin=-15)\n",
    "plt.show()"
   ]
  },
  {
   "cell_type": "code",
   "execution_count": null,
   "id": "bba32e49-b82d-432b-90e9-6e8f186cbc89",
   "metadata": {},
   "outputs": [],
   "source": [
    "### To investigate when the first jump to another current level takes place, run many loops (10000 in the example below) of the quantum jump evolution above for the corresponding initial state."
   ]
  },
  {
   "cell_type": "code",
   "execution_count": null,
   "id": "06250375-2ffc-4d90-a36f-3078b7928009",
   "metadata": {},
   "outputs": [],
   "source": [
    "jumpq03ad0=[]\n",
    "for l in range(10000):\n",
    "    for i in range(3,len(ttab)):\n",
    "        if Iarr03ad0[l,i]>80 and Iarr03ad0[l,i-1]>80 and Iarr03ad0[l,i-2]>80:\n",
    "            break\n",
    "    jumpq03ad0.append(i*dt)\n",
    "\n",
    "firstjumpq03ad0=np.array(jumpq03ad0)"
   ]
  },
  {
   "cell_type": "code",
   "execution_count": null,
   "id": "b8242015-fb0c-4823-8596-4d23639b2f97",
   "metadata": {},
   "outputs": [],
   "source": [
    "jumpq14ad0=[]\n",
    "for l in range(10000):\n",
    "    for i in range(3,len(ttab)):\n",
    "        if Iarr14ad0[l,i]<100 and Iarr14ad0[l,i-1]<100 and Iarr14ad0[l,i-2]<100:\n",
    "            break\n",
    "    jumpq14ad0.append(i*dt)\n",
    "\n",
    "firstjumpq14ad0=np.array(jumpq14ad0)"
   ]
  },
  {
   "cell_type": "code",
   "execution_count": null,
   "id": "a539ac06-6f22-422f-8199-fee1882e580a",
   "metadata": {},
   "outputs": [],
   "source": [
    "jumpq25ad0=[]\n",
    "for l in range(10000):\n",
    "    for i in range(3,len(ttab)):\n",
    "        if Iarr25ad0[l,i]>200 and Iarr25ad0[l,i-1]>200 and Iarr25ad0[l,i-2]>200:\n",
    "            break\n",
    "    jumpq25ad0.append(i*dt)\n",
    "\n",
    "firstjumpq25ad0=np.array(jumpq25ad0)"
   ]
  },
  {
   "cell_type": "code",
   "execution_count": null,
   "id": "cc313523-f699-458d-90ca-d3fb78e5959b",
   "metadata": {},
   "outputs": [],
   "source": [
    "jumpq03ad1=[]\n",
    "for l in range(10000):\n",
    "    for i in range(3,len(ttab)):\n",
    "        if Iarr03ad1[l,i]>150 and Iarr03ad1[l,i-1]>150 and Iarr03ad1[l,i-2]>150:\n",
    "            break\n",
    "    jumpq03ad1.append(i*dt)\n",
    "\n",
    "firstjumpq03ad1=np.array(jumpq03ad1)"
   ]
  },
  {
   "cell_type": "code",
   "execution_count": null,
   "id": "065beaf0-d2f4-4dac-92ac-1ad6d7e5504f",
   "metadata": {},
   "outputs": [],
   "source": [
    "jumpq14ad1=[]\n",
    "for l in range(10000):\n",
    "    for i in range(3,len(ttab)):\n",
    "        if Iarr14ad1[l,i]<180 and Iarr14ad1[l,i-1]<180 and Iarr14ad1[l,i-2]<180:\n",
    "            break\n",
    "    jumpq14ad1.append(i*dt)\n",
    "\n",
    "firstjumpq14ad1=np.array(jumpq14ad1)"
   ]
  },
  {
   "cell_type": "code",
   "execution_count": null,
   "id": "c1dd3781-7e45-4c2b-a0bc-a24216062fba",
   "metadata": {},
   "outputs": [],
   "source": [
    "jumpq25ad1=[]\n",
    "for l in range(10000):\n",
    "    for i in range(3,len(ttab)):\n",
    "        if Iarr25ad1[l,i]<50 and Iarr25ad1[l,i-1]<50 and Iarr25ad1[l,i-2]<50:\n",
    "            break\n",
    "    jumpq25ad1.append(i*dt)\n",
    "\n",
    "firstjumpq25ad1=np.array(jumpq25ad1)"
   ]
  },
  {
   "cell_type": "code",
   "execution_count": 4,
   "id": "c018091a-9fa7-4cf0-9a14-d27fc5381259",
   "metadata": {},
   "outputs": [],
   "source": [
    "t_ad=2*np.pi/abs(etaAD1)"
   ]
  },
  {
   "cell_type": "code",
   "execution_count": 5,
   "id": "a8d5b40d-26b9-411d-9605-3491a653608b",
   "metadata": {},
   "outputs": [],
   "source": [
    "fastshiftq03ad0=0\n",
    "for i in range(len(firstjumpq03ad0)):\n",
    "    if firstjumpq03ad0[i] <t_ad:\n",
    "        fastshiftq03ad0=fastshiftq03ad0+1\n",
    "        \n",
    "fastshiftq14ad0=0\n",
    "for i in range(len(firstjumpq14ad0)):\n",
    "    if firstjumpq14ad0[i] <t_ad:\n",
    "        fastshiftq14ad0=fastshiftq14ad0+1\n",
    "        \n",
    "fastshiftq25ad0=0\n",
    "for i in range(len(firstjumpq25ad0)):\n",
    "    if firstjumpq25ad0[i] <t_ad:\n",
    "        fastshiftq25ad0=fastshiftq25ad0+1\n",
    "        \n",
    "fastshiftq03ad1=0\n",
    "for i in range(len(firstjumpq03ad1)):\n",
    "    if firstjumpq03ad1[i] <t_ad:\n",
    "        fastshiftq03ad1=fastshiftq03ad1+1\n",
    "        \n",
    "fastshiftq14ad1=0\n",
    "for i in range(len(firstjumpq14ad1)):\n",
    "    if firstjumpq14ad1[i] <t_ad:\n",
    "        fastshiftq14ad1=fastshiftq14ad1+1\n",
    "        \n",
    "fastshiftq25ad1=0\n",
    "for i in range(len(firstjumpq25ad1)):\n",
    "    if firstjumpq25ad1[i] <t_ad:\n",
    "        fastshiftq25ad1=fastshiftq25ad1+1"
   ]
  },
  {
   "cell_type": "code",
   "execution_count": 6,
   "id": "5de71681-431c-48c1-acf8-0950d1603cf3",
   "metadata": {},
   "outputs": [
    {
     "name": "stdout",
     "output_type": "stream",
     "text": [
      "0.0198 0.0034 0.0051 0.0078 0.0104 0.0172\n"
     ]
    }
   ],
   "source": [
    "print(fastshiftq03ad0/10000,fastshiftq14ad0/10000,fastshiftq25ad0/10000,fastshiftq03ad1/10000,fastshiftq14ad1/10000,fastshiftq25ad1/10000)"
   ]
  },
  {
   "cell_type": "code",
   "execution_count": 8,
   "id": "cec0b74d-560f-44b8-a54d-77b33ee7269c",
   "metadata": {},
   "outputs": [
    {
     "data": {
      "image/png": "[encoded data removed]",
      "text/plain": [
       "<Figure size 432x288 with 1 Axes>"
      ]
     },
     "metadata": {
      "needs_background": "light"
     },
     "output_type": "display_data"
    }
   ],
   "source": [
    "fig,ax=plt.subplots()\n",
    "ax.set_xlabel(r'$t_{1^{\\rm st}\\, \\rm jump}\\, (\\mu {\\rm s})$')\n",
    "ax.set_ylabel(r'\\rm counts')\n",
    "ax.set_xticks(np.array([t_ad,0.5,1]), labels=[r'$t_b+t_{\\rm ad}$','$0.5$','$1$'])\n",
    "plt.hist(firstjumpq03ad0,range=(0,1))\n",
    "plt.hist(firstjumpq25ad1,range=(0,1),color='tab:green')\n",
    "plt.hist(firstjumpq14ad1,range=(0,1))\n",
    "plt.show()"
   ]
  },
  {
   "cell_type": "code",
   "execution_count": null,
   "id": "4e635c66-450d-4f18-a41e-ef49f0bbd320",
   "metadata": {},
   "outputs": [],
   "source": []
  }
 ],
 "metadata": {
  "kernelspec": {
   "display_name": "Python 3 (ipykernel)",
   "language": "python",
   "name": "python3"
  },
  "language_info": {
   "codemirror_mode": {
    "name": "ipython",
    "version": 3
   },
   "file_extension": ".py",
   "mimetype": "text/x-python",
   "name": "python",
   "nbconvert_exporter": "python",
   "pygments_lexer": "ipython3",
   "version": "3.9.12"
  }
 },
 "nbformat": 4,
 "nbformat_minor": 5
}
