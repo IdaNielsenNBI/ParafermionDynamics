{
 "cells": [
  {
   "cell_type": "markdown",
   "id": "18b32068-8956-4867-8ef6-976c078ab283",
   "metadata": {},
   "source": [
    "# Readout Dynamics of 4PFs with quantum jump method"
   ]
  },
  {
   "cell_type": "code",
   "execution_count": 1,
   "id": "f4434f49-1229-436a-8e39-843fde2619d3",
   "metadata": {},
   "outputs": [],
   "source": [
    "import numpy as np\n",
    "from numpy.linalg import eig\n",
    "import scipy.linalg as sla\n",
    "import matplotlib.pyplot as plt\n",
    "import matplotlib as mpl\n",
    "\n",
    "plt.rcParams['text.usetex']=True\n",
    "plt.rcParams['font.size']=26"
   ]
  },
  {
   "cell_type": "code",
   "execution_count": 74,
   "id": "4837c55a-9a7f-4cd3-9c02-915b3ea0120b",
   "metadata": {},
   "outputs": [],
   "source": [
    "# Definition of constants\n",
    "phiL = np.arctan(1/np.sqrt(27)) ### Phase of the left PF coupling\n",
    "phiR = np.pi/14 ### Phase of the right PF coupling\n",
    "d = np.pi/15 ### Phase of the middle PF coupling\n",
    "\n",
    "lam = 2.4e3*2*np.pi ### Angular frequency measure in units of 1/{\\mu}s\n",
    "epsL_ini = 50*lam ### Left PF overlap energy at t<0\n",
    "epsL_quench = 1e-4*50*lam ### Left PF overlap energy at t>0\n",
    "epsR_ini = 45*lam ### Right PF overlap energy at t<0\n",
    "epsR_quench = 1e-4*45*lam ### Right PF overlap energy at t>0\n",
    "epsLR = 1e-4*5*lam ### Cross capacitance term\n",
    "EJ_ini = lam ### Middle PF overlap energy at t<0\n",
    "EJ_quench = lam ### Middle PF overlap energy at t>0\n",
    "\n",
    "Gam = lam/10  ### Measurement rate between lead and PF 2 \n",
    "beta = (3/lam) ### Inverse temperature\n",
    "Vfix= 2.6*lam ### Fixed voltage\n",
    "\n",
    "dt =1e-4 ### Time step in units of {\\mu}s\n",
    "tres =1e-2 ### Resolution time in units of {\\mu}s\n",
    "tb = 1e-1 ### The integration time in units of {\\mu}s (t_avg in article) \n",
    "Nlong=round(tres/dt)*200 ### Number of time steps\n",
    "Navg=round(tb/dt) ### The number time steps averaged over for finding the current\n",
    "Nsample=50 ### Option for sampling more than one trajectory of the quantum jump evolution. In the paper, this is set to 10^4"
   ]
  },
  {
   "cell_type": "code",
   "execution_count": 31,
   "id": "d91893e9-aca1-4de4-b67f-5c4a4bbb689a",
   "metadata": {
    "tags": []
   },
   "outputs": [],
   "source": [
    "### The states below are expressed in the basis (|Q,q_L>, |Q+3,q_L>)\n",
    "q0 = np.array([1.,0,0,0,0,0,0,0,0,0,0,0], dtype=complex) ### Eigenstate of P_L with q_L=0\n",
    "s0 = np.array([1./np.sqrt(6),1./np.sqrt(6),1./np.sqrt(6),1./np.sqrt(6),1./np.sqrt(6),1./np.sqrt(6),0,0,0,0,0,0], dtype=complex) ### Eigenstate of P_J with j=0 \n",
    "s1 = np.array([1./np.sqrt(6),np.exp(-1j*np.pi/3)/np.sqrt(6),np.exp(-1j*np.pi*2/3)/np.sqrt(6),np.exp(-1j*np.pi)/np.sqrt(6),np.exp(-1j*np.pi*4/3)/np.sqrt(6),np.exp(-1j*np.pi*5/3)/np.sqrt(6),0,0,0,0,0,0], dtype=complex) ### Eigenstate of P_J with j=1 \n",
    "s2 = np.array([1./np.sqrt(6),np.exp(-1j*np.pi*2/3)/np.sqrt(6),np.exp(-1j*np.pi*4/3)/np.sqrt(6),np.exp(-1j*np.pi*2)/np.sqrt(6),np.exp(-1j*np.pi*8/3)/np.sqrt(6),np.exp(-1j*np.pi*10/3)/np.sqrt(6),0,0,0,0,0,0], dtype=complex) ### Eigenstate of P_J with j=2 "
   ]
  },
  {
   "cell_type": "code",
   "execution_count": 32,
   "id": "1b5bf460-bcb2-4ec0-8a67-26a155e0465f",
   "metadata": {},
   "outputs": [],
   "source": [
    "el05=np.zeros((12,12))\n",
    "el05[0,5]=1\n",
    "el05[6,11]=1\n",
    "el50=np.zeros((12,12))\n",
    "el50[5,0]=1\n",
    "el50[11,6]=1"
   ]
  },
  {
   "cell_type": "code",
   "execution_count": 33,
   "id": "b3fd4bb9-8ddb-4be3-a7bd-72626fbb328c",
   "metadata": {},
   "outputs": [],
   "source": [
    "HL_ini = -2*epsL_ini*np.diag([np.cos(phiL),np.cos(np.pi/3+phiL),np.cos(np.pi*2/3+phiL),np.cos(np.pi+phiL),np.cos(np.pi*4/3+phiL),np.cos(np.pi*5/3+phiL),np.cos(phiL),np.cos(np.pi/3+phiL),np.cos(np.pi*2/3+phiL),np.cos(np.pi+phiL),np.cos(np.pi*4/3+phiL),np.cos(np.pi*5/3+phiL)],0)\n",
    "\n",
    "def HR_ini(Q):\n",
    "    return -2*epsR_ini*np.diag([np.cos(np.pi*Q/3+phiR),np.cos(np.pi*(Q-1)/3+phiR),np.cos(np.pi*(Q-2)/3+phiR),np.cos(np.pi*(Q-3)/3+phiR),np.cos(np.pi*(Q-4)/3+phiR),np.cos(np.pi*(Q-5)/3+phiR),np.cos(np.pi*(Q+3)/3+phiR),np.cos(np.pi*(Q+3-1)/3+phiR),np.cos(np.pi*(Q+3-2)/3+phiR),np.cos(np.pi*(Q+3-3)/3+phiR),np.cos(np.pi*(Q+3-4)/3+phiR),np.cos(np.pi*(Q+3-5)/3+phiR)],0)\n",
    "\n",
    "def HLR(Q):\n",
    "    return -2*epsLR*np.diag([np.cos(np.pi*Q/3+phiL+phiR),np.cos(np.pi*Q/3+phiL+phiR),np.cos(np.pi*Q/3+phiL+phiR),np.cos(np.pi*Q/3+phiL+phiR),np.cos(np.pi*Q/3+phiL+phiR),np.cos(np.pi*Q/3+phiL+phiR),np.cos(np.pi*(Q+3)/3+phiL+phiR),np.cos(np.pi*(Q+3)/3+phiL+phiR),np.cos(np.pi*(Q+3)/3+phiL+phiR),np.cos(np.pi*(Q+3)/3+phiL+phiR),np.cos(np.pi*(Q+3)/3+phiL+phiR),np.cos(np.pi*(Q+3)/3+phiL+phiR)],0)\n",
    "\n",
    "HJ_ini = -EJ_ini*np.diag([np.exp(-1j*d),np.exp(-1j*d),np.exp(-1j*d),np.exp(-1j*d),np.exp(-1j*d),0,np.exp(-1j*d),np.exp(-1j*d),np.exp(-1j*d),np.exp(-1j*d),np.exp(-1j*d)],1)-EJ_ini*np.diag([np.exp(1j*d),np.exp(1j*d),np.exp(1j*d),np.exp(1j*d),np.exp(1j*d),0,np.exp(1j*d),np.exp(1j*d),np.exp(1j*d),np.exp(1j*d),np.exp(1j*d)],-1)-EJ_ini*np.exp(-1j*d)*el50-EJ_ini*np.exp(1j*d)*el05"
   ]
  },
  {
   "cell_type": "code",
   "execution_count": 34,
   "id": "5ba02332-1478-4b90-a174-c8501ad2e8a2",
   "metadata": {},
   "outputs": [],
   "source": [
    "def Hblock_ini(Q): ### The 4PF Hamiltonian with pre-quench parameters \n",
    "    return HL_ini+HR_ini(Q)+HLR(Q)+HJ_ini"
   ]
  },
  {
   "cell_type": "code",
   "execution_count": 35,
   "id": "0e3928a2-df59-4956-9e8d-6c9d09c55130",
   "metadata": {},
   "outputs": [],
   "source": [
    "eval0_ini,estat0_ini=eig(Hblock_ini(0))\n",
    "idx0 = eval0_ini.argsort()\n",
    "GS03 = estat0_ini[:,idx0[0]]\n",
    "\n",
    "eval1_ini,estat1_ini=eig(Hblock_ini(1))\n",
    "eval2_ini,estat2_ini=eig(Hblock_ini(2))"
   ]
  },
  {
   "cell_type": "code",
   "execution_count": 36,
   "id": "f9ea7ae7-c2d4-420a-8092-dfdd4acaf6de",
   "metadata": {},
   "outputs": [
    {
     "data": {
      "text/plain": [
       "array([9.99884332e-01+0.00000000e+00j, 1.06295101e-02+2.25937211e-03j,\n",
       "       3.57165517e-05+1.59016505e-05j, 1.67745960e-07+1.70811187e-09j,\n",
       "       3.47292408e-05-1.54620632e-05j, 1.04083681e-02-2.21236693e-03j,\n",
       "       0.00000000e+00-0.00000000e+00j, 0.00000000e+00-0.00000000e+00j,\n",
       "       0.00000000e+00-0.00000000e+00j, 0.00000000e+00-0.00000000e+00j,\n",
       "       0.00000000e+00-0.00000000e+00j, 0.00000000e+00-0.00000000e+00j])"
      ]
     },
     "execution_count": 36,
     "metadata": {},
     "output_type": "execute_result"
    }
   ],
   "source": [
    "GS03"
   ]
  },
  {
   "cell_type": "code",
   "execution_count": 37,
   "id": "93bccd36-bb9a-49ce-9bc2-d0361763a73f",
   "metadata": {},
   "outputs": [],
   "source": [
    "evals_ini=np.concatenate((np.concatenate((eval0_ini,eval1_ini)),eval2_ini))\n",
    "x=[1]*len(evals_ini)\n",
    "Qcolour=['tab:blue']*12+['tab:orange']*12+['tab:green']*12"
   ]
  },
  {
   "cell_type": "code",
   "execution_count": 38,
   "id": "b31659fb-9d38-4e1b-96dd-fec7478cad0e",
   "metadata": {},
   "outputs": [
    {
     "name": "stderr",
     "output_type": "stream",
     "text": [
      "C:\\Users\\Ida Nielsen\\anaconda3\\lib\\site-packages\\matplotlib\\collections.py:200: ComplexWarning: Casting complex values to real discards the imaginary part\n",
      "  offsets = np.asanyarray(offsets, float)\n"
     ]
    },
    {
     "data": {
      "image/png": "[encoded data removed]",
      "text/plain": [
       "<Figure size 432x864 with 1 Axes>"
      ]
     },
     "metadata": {
      "needs_background": "light"
     },
     "output_type": "display_data"
    }
   ],
   "source": [
    "fig, ax =plt.subplots(figsize=(6, 12)) ### Spectrum before the quench\n",
    "ax.set_ylabel(r'$E\\, (\\lambda)$')\n",
    "ax.scatter(x, evals_ini/lam,s=80000,  marker=\"_\", c=Qcolour,linewidth=1.5)\n",
    "ax.grid(axis='y')\n",
    "ax.set_xticks([])\n",
    "ax.yaxis.set_minor_locator(mpl.ticker.MaxNLocator(50))"
   ]
  },
  {
   "cell_type": "code",
   "execution_count": 39,
   "id": "c12dd509-0dcf-4889-b884-8a1bb78d9fd5",
   "metadata": {},
   "outputs": [],
   "source": [
    "HL_quench = -2*epsL_quench*np.diag([np.cos(phiL),np.cos(np.pi/3+phiL),np.cos(np.pi*2/3+phiL),np.cos(np.pi+phiL),np.cos(np.pi*4/3+phiL),np.cos(np.pi*5/3+phiL),np.cos(phiL),np.cos(np.pi/3+phiL),np.cos(np.pi*2/3+phiL),np.cos(np.pi+phiL),np.cos(np.pi*4/3+phiL),np.cos(np.pi*5/3+phiL)],0)\n",
    "\n",
    "def HR_quench(Q):\n",
    "    return -2*epsR_quench*np.diag([np.cos(np.pi*Q/3+phiR),np.cos(np.pi*(Q-1)/3+phiR),np.cos(np.pi*(Q-2)/3+phiR),np.cos(np.pi*(Q-3)/3+phiR),np.cos(np.pi*(Q-4)/3+phiR),np.cos(np.pi*(Q-5)/3+phiR),np.cos(np.pi*(Q+3)/3+phiR),np.cos(np.pi*(Q+3-1)/3+phiR),np.cos(np.pi*(Q+3-2)/3+phiR),np.cos(np.pi*(Q+3-3)/3+phiR),np.cos(np.pi*(Q+3-4)/3+phiR),np.cos(np.pi*(Q+3-5)/3+phiR)],0)\n",
    "\n",
    "def HLR(Q):\n",
    "    return -2*epsLR*np.diag([np.cos(np.pi*Q/3+phiL+phiR),np.cos(np.pi*Q/3+phiL+phiR),np.cos(np.pi*Q/3+phiL+phiR),np.cos(np.pi*Q/3+phiL+phiR),np.cos(np.pi*Q/3+phiL+phiR),np.cos(np.pi*Q/3+phiL+phiR),np.cos(np.pi*(Q+3)/3+phiL+phiR),np.cos(np.pi*(Q+3)/3+phiL+phiR),np.cos(np.pi*(Q+3)/3+phiL+phiR),np.cos(np.pi*(Q+3)/3+phiL+phiR),np.cos(np.pi*(Q+3)/3+phiL+phiR),np.cos(np.pi*(Q+3)/3+phiL+phiR)],0)\n",
    "\n",
    "HJ_quench = -EJ_quench*np.diag([np.exp(-1j*d),np.exp(-1j*d),np.exp(-1j*d),np.exp(-1j*d),np.exp(-1j*d),0,np.exp(-1j*d),np.exp(-1j*d),np.exp(-1j*d),np.exp(-1j*d),np.exp(-1j*d)],1)-EJ_quench*np.diag([np.exp(1j*d),np.exp(1j*d),np.exp(1j*d),np.exp(1j*d),np.exp(1j*d),0,np.exp(1j*d),np.exp(1j*d),np.exp(1j*d),np.exp(1j*d),np.exp(1j*d)],-1)-EJ_quench*np.exp(-1j*d)*el50-EJ_quench*np.exp(1j*d)*el05"
   ]
  },
  {
   "cell_type": "code",
   "execution_count": 40,
   "id": "3039b2c6-9125-4c76-a582-ba87f616a58e",
   "metadata": {},
   "outputs": [],
   "source": [
    "def Hblock_quench(Q): ### The 4PF Hamiltonian with post-quench parameters \n",
    "    return HL_quench+HR_quench(Q)+HLR(Q)+HJ_quench"
   ]
  },
  {
   "cell_type": "code",
   "execution_count": 41,
   "id": "7a0b891e-ac70-44ce-9c24-3f825c4b171a",
   "metadata": {},
   "outputs": [],
   "source": [
    "eval0_quench,estat0_quench=sla.eig(Hblock_quench(0))\n",
    "\n",
    "eval1_quench,estat1_quench=sla.eig(Hblock_quench(1))\n",
    "\n",
    "eval2_quench,estat2_quench=sla.eig(Hblock_quench(2))"
   ]
  },
  {
   "cell_type": "code",
   "execution_count": 42,
   "id": "0887aab3-a8ce-4fcc-a214-a4a3be4664a9",
   "metadata": {},
   "outputs": [],
   "source": [
    "evals_quench=np.concatenate((np.concatenate((eval0_quench,eval1_quench)),eval2_quench))\n",
    "x=[1]*len(evals_quench)\n",
    "Qcolour=['skyblue']*12+['sandybrown']*12+['lightgreen']*12"
   ]
  },
  {
   "cell_type": "code",
   "execution_count": 43,
   "id": "449e68f6-482f-4e5e-be9c-d1c3b12910f1",
   "metadata": {},
   "outputs": [
    {
     "data": {
      "image/png": "[encoded data removed]",
      "text/plain": [
       "<Figure size 432x864 with 1 Axes>"
      ]
     },
     "metadata": {
      "needs_background": "light"
     },
     "output_type": "display_data"
    }
   ],
   "source": [
    "fig, ax =plt.subplots(figsize=(6, 12)) ### Zoom in at spectrum after the quench\n",
    "ax.set_ylabel(r'$E\\, (\\lambda)$')\n",
    "ax.scatter(x, evals_quench/lam,s=80000,  marker=\"_\", c=Qcolour,linewidth=1.5)\n",
    "ax.grid(axis='y')\n",
    "ax.set_xticks([])\n",
    "plt.ylim(ymin=0.6,ymax=0.65) ### Remove this line to see full spectrum\n",
    "ax.yaxis.set_minor_locator(mpl.ticker.MaxNLocator(50))"
   ]
  },
  {
   "cell_type": "code",
   "execution_count": 44,
   "id": "03f7360d-a03a-4e94-851c-33ee5333e6f2",
   "metadata": {},
   "outputs": [],
   "source": [
    "tau3=np.diag([1,-1,1,-1,1,-1,1,-1,1,-1,1,-1],0)\n",
    "sig3=np.hstack((np.hstack((np.concatenate((np.zeros((9,3)),np.identity(3))),np.vstack((np.concatenate((np.zeros((6,3)),np.identity(3))),np.zeros((3,3)))))),np.hstack((np.vstack((np.concatenate((np.zeros((3,3)),np.identity(3))),np.zeros((6,3)))),np.concatenate((np.identity(3),np.zeros((9,3))))))))\n",
    "t3s3=tau3@sig3"
   ]
  },
  {
   "cell_type": "code",
   "execution_count": 45,
   "id": "1c11d32a-fb2e-49cc-99da-8b6e492f3370",
   "metadata": {},
   "outputs": [],
   "source": [
    "Lin_03= np.zeros((12,12), dtype=complex) ### The L+ jump operator in the Q=0,3 subspace\n",
    "for m in range(12):\n",
    "    for n in range(12):\n",
    "        Lin_03 = Lin_03 + np.sqrt(Gam)*np.sqrt(1/(1+np.exp(beta*(eval0_quench[m]-eval0_quench[n]-Vfix))))*np.vdot(estat0_quench[:,m],(t3s3.dot(estat0_quench[:,n])))*np.outer(estat0_quench[:,m],(estat0_quench[:,n].conj()))"
   ]
  },
  {
   "cell_type": "code",
   "execution_count": 46,
   "id": "b983e68e-8dbd-4831-9682-dd902acdd480",
   "metadata": {},
   "outputs": [],
   "source": [
    "Lout_03= np.zeros((12,12), dtype=complex) ### The L- jump operator in the Q=0,3 subspace\n",
    "for m in range(12):\n",
    "    for n in range(12):\n",
    "        Lout_03 = Lout_03 + np.sqrt(Gam)*np.sqrt(1-1/(1+np.exp(beta*(eval0_quench[n]-eval0_quench[m]-Vfix))))*np.vdot(estat0_quench[:,m],(t3s3.dot(estat0_quench[:,n])))*np.outer(estat0_quench[:,m],(estat0_quench[:,n].conj()))"
   ]
  },
  {
   "cell_type": "code",
   "execution_count": 47,
   "id": "f099ac36-b83d-45e2-a0a1-17530b8d4e3b",
   "metadata": {},
   "outputs": [],
   "source": [
    "U03 = sla.expm(-1j*dt*(Hblock_quench(0)-1j*((Lin_03.T.conj())@Lin_03+(Lout_03.T.conj())@Lout_03)/2)) ### The no-jump evolution operator in the Q=0,3 subspace"
   ]
  },
  {
   "cell_type": "code",
   "execution_count": 75,
   "id": "0adf6074-bd60-447d-8c7f-d6627fcf3f9f",
   "metadata": {},
   "outputs": [],
   "source": [
    "Jtab=[]\n",
    "for n in range(Nsample):\n",
    "    st = GS03 ### Insert here the initial state\n",
    "    Jdiff03=[]\n",
    "    j1=0\n",
    "    j2=0\n",
    "    for i in range(1,Nlong+1):\n",
    "        stnj = U03.dot(st)\n",
    "        stnjR = stnj/np.sqrt(np.vdot(stnj,stnj))\n",
    "        L1st = Lin_03.dot(stnjR)\n",
    "        L2st = Lout_03.dot(stnjR)\n",
    "        Pj1 = dt*(np.vdot(L1st,L1st)).real\n",
    "        Pj2 = dt*(np.vdot(L2st,L2st)).real\n",
    "        P=np.random.uniform()\n",
    "        P1=np.random.uniform()\n",
    "        P2=np.random.uniform()\n",
    "        if P<0.5:\n",
    "            if P1<Pj1:\n",
    "                st=L1st/np.sqrt(Pj1/dt)\n",
    "                j1=j1+1\n",
    "                j2=j2+0\n",
    "            else:\n",
    "                if P2<Pj2:\n",
    "                    st=L2st/np.sqrt(Pj2/dt)\n",
    "                    j1=j1+0\n",
    "                    j2=j2+1\n",
    "                else:\n",
    "                    st=stnjR\n",
    "                    j1=j1+0\n",
    "                    j2=j2+0\n",
    "        else:\n",
    "            if P2<Pj2:\n",
    "                st=L2st/np.sqrt(Pj2/dt)\n",
    "                j1=j1+0\n",
    "                j2=j2+1\n",
    "            else:\n",
    "                if P1<Pj1:\n",
    "                    st=L1st/np.sqrt(Pj1/dt)\n",
    "                    j1=j1+1\n",
    "                    j2=j2+0\n",
    "                else:\n",
    "                    st=stnjR\n",
    "                    j1=j1+0\n",
    "                    j2=j2+0\n",
    "        Jdiff03.append(j1-j2)\n",
    "    Jtab.append(Jdiff03)\n",
    "\n",
    "\n",
    "Jarr03=np.array(Jtab)\n",
    "Itab03=[]\n",
    "for n in range(Nsample):\n",
    "    I=[]\n",
    "    for i in range(Navg, Nlong):\n",
    "        curr=1e12*1.6e-19*(Jarr03[n,i]-Jarr03[n,i-Navg])/(tb*1e-6)\n",
    "        I.append(curr)\n",
    "    Itab03.append(I)\n",
    "    \n",
    "Iarr03=np.array(Itab03)"
   ]
  },
  {
   "cell_type": "code",
   "execution_count": 59,
   "id": "c15de789-bb60-4655-9a8a-868bda21a5e9",
   "metadata": {},
   "outputs": [],
   "source": [
    "ttab=np.linspace(tb,Nlong*dt,Nlong-Navg)\n",
    "s0mean=4.54\n",
    "s1mean=236.9\n",
    "s2mean=108.0"
   ]
  },
  {
   "cell_type": "code",
   "execution_count": 60,
   "id": "5847799f-f724-4ea7-a046-df03b95635c5",
   "metadata": {},
   "outputs": [
    {
     "data": {
      "image/png": "[encoded data removed]",
      "text/plain": [
       "<Figure size 432x288 with 1 Axes>"
      ]
     },
     "metadata": {
      "needs_background": "light"
     },
     "output_type": "display_data"
    }
   ],
   "source": [
    "### Set Nsample=1 and Nlong=round(tres/dt)*5000 above to create this plot of the current trajectories over long times\n",
    "fig, ax = plt.subplots()\n",
    "ax.set_xlabel(r'$t(\\mu {\\rm s})$')\n",
    "ax.set_ylabel(r'$I\\, ({\\rm pA})$')\n",
    "ax.set_xticks(np.array([tb,1000*tres,2500*tres,5000*tres]), labels=['$0.1$','$10$','$25$','$50$'])\n",
    "ax.set_yticks(np.array([0,100,200,300]))\n",
    "plt.ylim(ymin=-10,ymax=310)\n",
    "plt.plot(ttab,Iarr03[0],color='dimgrey')\n",
    "ax.hlines(s0mean,tb,Nlong*dt,color='#b45c1f',linewidth=3)\n",
    "ax.hlines(s1mean,tb,Nlong*dt,color='#0E8EFF',linewidth=3)\n",
    "ax.hlines(s2mean,tb,Nlong*dt,color='#A02CA0',linewidth=3)\n",
    "plt.bar(0.95,305,width=1.9,color='lightseagreen',alpha=0.7)\n",
    "plt.show()"
   ]
  },
  {
   "cell_type": "code",
   "execution_count": 67,
   "id": "4dd14ff3-5f9e-41fc-9053-41217fc4a212",
   "metadata": {},
   "outputs": [],
   "source": [
    "### For the histogram, set Nsample large (10^4 is used for the article) and Nlong=round(tres/dt)*200\n",
    "mean03=[]\n",
    "for n in range(Nsample):\n",
    "    mean=np.mean(Iarr03[n])\n",
    "    mean03.append(mean)"
   ]
  },
  {
   "cell_type": "code",
   "execution_count": 70,
   "id": "b1dfda09-c3f6-4d80-b4e5-57619a583ba9",
   "metadata": {},
   "outputs": [
    {
     "data": {
      "image/png": "[encoded data removed]",
      "text/plain": [
       "<Figure size 432x288 with 1 Axes>"
      ]
     },
     "metadata": {
      "needs_background": "light"
     },
     "output_type": "display_data"
    }
   ],
   "source": [
    "fig, ax = plt.subplots()\n",
    "ax.set_xlabel(r'$\\langle I\\rangle\\, ({\\rm pA})$')\n",
    "ax.set_ylabel(r'${\\rm counts}$')\n",
    "plt.hist(mean03,bins=11,color='lightseagreen',alpha=0.7)\n",
    "plt.show()"
   ]
  },
  {
   "cell_type": "code",
   "execution_count": null,
   "id": "bca30408-3b8f-477f-881d-a72eb1c9e5fa",
   "metadata": {},
   "outputs": [],
   "source": []
  }
 ],
 "metadata": {
  "kernelspec": {
   "display_name": "Python 3 (ipykernel)",
   "language": "python",
   "name": "python3"
  },
  "language_info": {
   "codemirror_mode": {
    "name": "ipython",
    "version": 3
   },
   "file_extension": ".py",
   "mimetype": "text/x-python",
   "name": "python",
   "nbconvert_exporter": "python",
   "pygments_lexer": "ipython3",
   "version": "3.9.12"
  }
 },
 "nbformat": 4,
 "nbformat_minor": 5
}
